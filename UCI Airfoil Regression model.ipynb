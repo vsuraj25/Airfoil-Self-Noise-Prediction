{
 "cells": [
  {
   "cell_type": "code",
   "execution_count": 1,
   "id": "2ef1b984",
   "metadata": {},
   "outputs": [],
   "source": [
    "import pandas as pd\n",
    "import numpy as np\n",
    "import matplotlib.pyplot as plt\n",
    "import seaborn as sns\n",
    "%matplotlib inline"
   ]
  },
  {
   "cell_type": "code",
   "execution_count": 2,
   "id": "3f463081",
   "metadata": {},
   "outputs": [],
   "source": [
    "df = pd.read_csv('C://Datasets//airfoil_self_noise.dat',sep='\\t',header=None)"
   ]
  },
  {
   "cell_type": "code",
   "execution_count": 3,
   "id": "0a4b8ff4",
   "metadata": {},
   "outputs": [
    {
     "data": {
      "text/html": [
       "<div>\n",
       "<style scoped>\n",
       "    .dataframe tbody tr th:only-of-type {\n",
       "        vertical-align: middle;\n",
       "    }\n",
       "\n",
       "    .dataframe tbody tr th {\n",
       "        vertical-align: top;\n",
       "    }\n",
       "\n",
       "    .dataframe thead th {\n",
       "        text-align: right;\n",
       "    }\n",
       "</style>\n",
       "<table border=\"1\" class=\"dataframe\">\n",
       "  <thead>\n",
       "    <tr style=\"text-align: right;\">\n",
       "      <th></th>\n",
       "      <th>0</th>\n",
       "      <th>1</th>\n",
       "      <th>2</th>\n",
       "      <th>3</th>\n",
       "      <th>4</th>\n",
       "      <th>5</th>\n",
       "    </tr>\n",
       "  </thead>\n",
       "  <tbody>\n",
       "    <tr>\n",
       "      <th>0</th>\n",
       "      <td>800</td>\n",
       "      <td>0.0</td>\n",
       "      <td>0.3048</td>\n",
       "      <td>71.3</td>\n",
       "      <td>0.002663</td>\n",
       "      <td>126.201</td>\n",
       "    </tr>\n",
       "    <tr>\n",
       "      <th>1</th>\n",
       "      <td>1000</td>\n",
       "      <td>0.0</td>\n",
       "      <td>0.3048</td>\n",
       "      <td>71.3</td>\n",
       "      <td>0.002663</td>\n",
       "      <td>125.201</td>\n",
       "    </tr>\n",
       "    <tr>\n",
       "      <th>2</th>\n",
       "      <td>1250</td>\n",
       "      <td>0.0</td>\n",
       "      <td>0.3048</td>\n",
       "      <td>71.3</td>\n",
       "      <td>0.002663</td>\n",
       "      <td>125.951</td>\n",
       "    </tr>\n",
       "    <tr>\n",
       "      <th>3</th>\n",
       "      <td>1600</td>\n",
       "      <td>0.0</td>\n",
       "      <td>0.3048</td>\n",
       "      <td>71.3</td>\n",
       "      <td>0.002663</td>\n",
       "      <td>127.591</td>\n",
       "    </tr>\n",
       "    <tr>\n",
       "      <th>4</th>\n",
       "      <td>2000</td>\n",
       "      <td>0.0</td>\n",
       "      <td>0.3048</td>\n",
       "      <td>71.3</td>\n",
       "      <td>0.002663</td>\n",
       "      <td>127.461</td>\n",
       "    </tr>\n",
       "  </tbody>\n",
       "</table>\n",
       "</div>"
      ],
      "text/plain": [
       "      0    1       2     3         4        5\n",
       "0   800  0.0  0.3048  71.3  0.002663  126.201\n",
       "1  1000  0.0  0.3048  71.3  0.002663  125.201\n",
       "2  1250  0.0  0.3048  71.3  0.002663  125.951\n",
       "3  1600  0.0  0.3048  71.3  0.002663  127.591\n",
       "4  2000  0.0  0.3048  71.3  0.002663  127.461"
      ]
     },
     "execution_count": 3,
     "metadata": {},
     "output_type": "execute_result"
    }
   ],
   "source": [
    "df.head()"
   ]
  },
  {
   "cell_type": "markdown",
   "id": "12c03fc3",
   "metadata": {},
   "source": [
    "- Defining column names"
   ]
  },
  {
   "cell_type": "code",
   "execution_count": 4,
   "id": "1fed891d",
   "metadata": {},
   "outputs": [],
   "source": [
    "col = ['Frequency', 'Angle_of_attack', 'Chord_length', 'stream_velocity',  'displacement_thickness',  'Sound_Pressure_Level']\n",
    "df.columns = col"
   ]
  },
  {
   "cell_type": "code",
   "execution_count": 5,
   "id": "3418d4d2",
   "metadata": {},
   "outputs": [
    {
     "data": {
      "text/html": [
       "<div>\n",
       "<style scoped>\n",
       "    .dataframe tbody tr th:only-of-type {\n",
       "        vertical-align: middle;\n",
       "    }\n",
       "\n",
       "    .dataframe tbody tr th {\n",
       "        vertical-align: top;\n",
       "    }\n",
       "\n",
       "    .dataframe thead th {\n",
       "        text-align: right;\n",
       "    }\n",
       "</style>\n",
       "<table border=\"1\" class=\"dataframe\">\n",
       "  <thead>\n",
       "    <tr style=\"text-align: right;\">\n",
       "      <th></th>\n",
       "      <th>Frequency</th>\n",
       "      <th>Angle_of_attack</th>\n",
       "      <th>Chord_length</th>\n",
       "      <th>stream_velocity</th>\n",
       "      <th>displacement_thickness</th>\n",
       "      <th>Sound_Pressure_Level</th>\n",
       "    </tr>\n",
       "  </thead>\n",
       "  <tbody>\n",
       "    <tr>\n",
       "      <th>0</th>\n",
       "      <td>800</td>\n",
       "      <td>0.0</td>\n",
       "      <td>0.3048</td>\n",
       "      <td>71.3</td>\n",
       "      <td>0.002663</td>\n",
       "      <td>126.201</td>\n",
       "    </tr>\n",
       "    <tr>\n",
       "      <th>1</th>\n",
       "      <td>1000</td>\n",
       "      <td>0.0</td>\n",
       "      <td>0.3048</td>\n",
       "      <td>71.3</td>\n",
       "      <td>0.002663</td>\n",
       "      <td>125.201</td>\n",
       "    </tr>\n",
       "    <tr>\n",
       "      <th>2</th>\n",
       "      <td>1250</td>\n",
       "      <td>0.0</td>\n",
       "      <td>0.3048</td>\n",
       "      <td>71.3</td>\n",
       "      <td>0.002663</td>\n",
       "      <td>125.951</td>\n",
       "    </tr>\n",
       "    <tr>\n",
       "      <th>3</th>\n",
       "      <td>1600</td>\n",
       "      <td>0.0</td>\n",
       "      <td>0.3048</td>\n",
       "      <td>71.3</td>\n",
       "      <td>0.002663</td>\n",
       "      <td>127.591</td>\n",
       "    </tr>\n",
       "    <tr>\n",
       "      <th>4</th>\n",
       "      <td>2000</td>\n",
       "      <td>0.0</td>\n",
       "      <td>0.3048</td>\n",
       "      <td>71.3</td>\n",
       "      <td>0.002663</td>\n",
       "      <td>127.461</td>\n",
       "    </tr>\n",
       "  </tbody>\n",
       "</table>\n",
       "</div>"
      ],
      "text/plain": [
       "   Frequency  Angle_of_attack  Chord_length  stream_velocity  \\\n",
       "0        800              0.0        0.3048             71.3   \n",
       "1       1000              0.0        0.3048             71.3   \n",
       "2       1250              0.0        0.3048             71.3   \n",
       "3       1600              0.0        0.3048             71.3   \n",
       "4       2000              0.0        0.3048             71.3   \n",
       "\n",
       "   displacement_thickness  Sound_Pressure_Level  \n",
       "0                0.002663               126.201  \n",
       "1                0.002663               125.201  \n",
       "2                0.002663               125.951  \n",
       "3                0.002663               127.591  \n",
       "4                0.002663               127.461  "
      ]
     },
     "execution_count": 5,
     "metadata": {},
     "output_type": "execute_result"
    }
   ],
   "source": [
    "df.head()"
   ]
  },
  {
   "cell_type": "markdown",
   "id": "2f682de4",
   "metadata": {},
   "source": [
    "- Basic Information"
   ]
  },
  {
   "cell_type": "code",
   "execution_count": 6,
   "id": "d8aadc12",
   "metadata": {},
   "outputs": [
    {
     "name": "stdout",
     "output_type": "stream",
     "text": [
      "<class 'pandas.core.frame.DataFrame'>\n",
      "RangeIndex: 1503 entries, 0 to 1502\n",
      "Data columns (total 6 columns):\n",
      " #   Column                  Non-Null Count  Dtype  \n",
      "---  ------                  --------------  -----  \n",
      " 0   Frequency               1503 non-null   int64  \n",
      " 1   Angle_of_attack         1503 non-null   float64\n",
      " 2   Chord_length            1503 non-null   float64\n",
      " 3   stream_velocity         1503 non-null   float64\n",
      " 4   displacement_thickness  1503 non-null   float64\n",
      " 5   Sound_Pressure_Level    1503 non-null   float64\n",
      "dtypes: float64(5), int64(1)\n",
      "memory usage: 70.6 KB\n"
     ]
    }
   ],
   "source": [
    "df.info()"
   ]
  },
  {
   "cell_type": "code",
   "execution_count": 7,
   "id": "a9febb22",
   "metadata": {},
   "outputs": [
    {
     "data": {
      "text/html": [
       "<div>\n",
       "<style scoped>\n",
       "    .dataframe tbody tr th:only-of-type {\n",
       "        vertical-align: middle;\n",
       "    }\n",
       "\n",
       "    .dataframe tbody tr th {\n",
       "        vertical-align: top;\n",
       "    }\n",
       "\n",
       "    .dataframe thead th {\n",
       "        text-align: right;\n",
       "    }\n",
       "</style>\n",
       "<table border=\"1\" class=\"dataframe\">\n",
       "  <thead>\n",
       "    <tr style=\"text-align: right;\">\n",
       "      <th></th>\n",
       "      <th>Frequency</th>\n",
       "      <th>Angle_of_attack</th>\n",
       "      <th>Chord_length</th>\n",
       "      <th>stream_velocity</th>\n",
       "      <th>displacement_thickness</th>\n",
       "      <th>Sound_Pressure_Level</th>\n",
       "    </tr>\n",
       "  </thead>\n",
       "  <tbody>\n",
       "    <tr>\n",
       "      <th>count</th>\n",
       "      <td>1503.000000</td>\n",
       "      <td>1503.000000</td>\n",
       "      <td>1503.000000</td>\n",
       "      <td>1503.000000</td>\n",
       "      <td>1503.000000</td>\n",
       "      <td>1503.000000</td>\n",
       "    </tr>\n",
       "    <tr>\n",
       "      <th>mean</th>\n",
       "      <td>2886.380572</td>\n",
       "      <td>6.782302</td>\n",
       "      <td>0.136548</td>\n",
       "      <td>50.860745</td>\n",
       "      <td>0.011140</td>\n",
       "      <td>124.835943</td>\n",
       "    </tr>\n",
       "    <tr>\n",
       "      <th>std</th>\n",
       "      <td>3152.573137</td>\n",
       "      <td>5.918128</td>\n",
       "      <td>0.093541</td>\n",
       "      <td>15.572784</td>\n",
       "      <td>0.013150</td>\n",
       "      <td>6.898657</td>\n",
       "    </tr>\n",
       "    <tr>\n",
       "      <th>min</th>\n",
       "      <td>200.000000</td>\n",
       "      <td>0.000000</td>\n",
       "      <td>0.025400</td>\n",
       "      <td>31.700000</td>\n",
       "      <td>0.000401</td>\n",
       "      <td>103.380000</td>\n",
       "    </tr>\n",
       "    <tr>\n",
       "      <th>25%</th>\n",
       "      <td>800.000000</td>\n",
       "      <td>2.000000</td>\n",
       "      <td>0.050800</td>\n",
       "      <td>39.600000</td>\n",
       "      <td>0.002535</td>\n",
       "      <td>120.191000</td>\n",
       "    </tr>\n",
       "    <tr>\n",
       "      <th>50%</th>\n",
       "      <td>1600.000000</td>\n",
       "      <td>5.400000</td>\n",
       "      <td>0.101600</td>\n",
       "      <td>39.600000</td>\n",
       "      <td>0.004957</td>\n",
       "      <td>125.721000</td>\n",
       "    </tr>\n",
       "    <tr>\n",
       "      <th>75%</th>\n",
       "      <td>4000.000000</td>\n",
       "      <td>9.900000</td>\n",
       "      <td>0.228600</td>\n",
       "      <td>71.300000</td>\n",
       "      <td>0.015576</td>\n",
       "      <td>129.995500</td>\n",
       "    </tr>\n",
       "    <tr>\n",
       "      <th>max</th>\n",
       "      <td>20000.000000</td>\n",
       "      <td>22.200000</td>\n",
       "      <td>0.304800</td>\n",
       "      <td>71.300000</td>\n",
       "      <td>0.058411</td>\n",
       "      <td>140.987000</td>\n",
       "    </tr>\n",
       "  </tbody>\n",
       "</table>\n",
       "</div>"
      ],
      "text/plain": [
       "          Frequency  Angle_of_attack  Chord_length  stream_velocity  \\\n",
       "count   1503.000000      1503.000000   1503.000000      1503.000000   \n",
       "mean    2886.380572         6.782302      0.136548        50.860745   \n",
       "std     3152.573137         5.918128      0.093541        15.572784   \n",
       "min      200.000000         0.000000      0.025400        31.700000   \n",
       "25%      800.000000         2.000000      0.050800        39.600000   \n",
       "50%     1600.000000         5.400000      0.101600        39.600000   \n",
       "75%     4000.000000         9.900000      0.228600        71.300000   \n",
       "max    20000.000000        22.200000      0.304800        71.300000   \n",
       "\n",
       "       displacement_thickness  Sound_Pressure_Level  \n",
       "count             1503.000000           1503.000000  \n",
       "mean                 0.011140            124.835943  \n",
       "std                  0.013150              6.898657  \n",
       "min                  0.000401            103.380000  \n",
       "25%                  0.002535            120.191000  \n",
       "50%                  0.004957            125.721000  \n",
       "75%                  0.015576            129.995500  \n",
       "max                  0.058411            140.987000  "
      ]
     },
     "execution_count": 7,
     "metadata": {},
     "output_type": "execute_result"
    }
   ],
   "source": [
    "df.describe()"
   ]
  },
  {
   "cell_type": "code",
   "execution_count": 8,
   "id": "b245fe18",
   "metadata": {},
   "outputs": [
    {
     "data": {
      "text/html": [
       "<div>\n",
       "<style scoped>\n",
       "    .dataframe tbody tr th:only-of-type {\n",
       "        vertical-align: middle;\n",
       "    }\n",
       "\n",
       "    .dataframe tbody tr th {\n",
       "        vertical-align: top;\n",
       "    }\n",
       "\n",
       "    .dataframe thead th {\n",
       "        text-align: right;\n",
       "    }\n",
       "</style>\n",
       "<table border=\"1\" class=\"dataframe\">\n",
       "  <thead>\n",
       "    <tr style=\"text-align: right;\">\n",
       "      <th></th>\n",
       "      <th>Frequency</th>\n",
       "      <th>Angle_of_attack</th>\n",
       "      <th>Chord_length</th>\n",
       "      <th>stream_velocity</th>\n",
       "      <th>displacement_thickness</th>\n",
       "      <th>Sound_Pressure_Level</th>\n",
       "    </tr>\n",
       "  </thead>\n",
       "  <tbody>\n",
       "    <tr>\n",
       "      <th>Frequency</th>\n",
       "      <td>1.000000</td>\n",
       "      <td>-0.272765</td>\n",
       "      <td>-0.003661</td>\n",
       "      <td>0.133664</td>\n",
       "      <td>-0.230107</td>\n",
       "      <td>-0.390711</td>\n",
       "    </tr>\n",
       "    <tr>\n",
       "      <th>Angle_of_attack</th>\n",
       "      <td>-0.272765</td>\n",
       "      <td>1.000000</td>\n",
       "      <td>-0.504868</td>\n",
       "      <td>0.058760</td>\n",
       "      <td>0.753394</td>\n",
       "      <td>-0.156108</td>\n",
       "    </tr>\n",
       "    <tr>\n",
       "      <th>Chord_length</th>\n",
       "      <td>-0.003661</td>\n",
       "      <td>-0.504868</td>\n",
       "      <td>1.000000</td>\n",
       "      <td>0.003787</td>\n",
       "      <td>-0.220842</td>\n",
       "      <td>-0.236162</td>\n",
       "    </tr>\n",
       "    <tr>\n",
       "      <th>stream_velocity</th>\n",
       "      <td>0.133664</td>\n",
       "      <td>0.058760</td>\n",
       "      <td>0.003787</td>\n",
       "      <td>1.000000</td>\n",
       "      <td>-0.003974</td>\n",
       "      <td>0.125103</td>\n",
       "    </tr>\n",
       "    <tr>\n",
       "      <th>displacement_thickness</th>\n",
       "      <td>-0.230107</td>\n",
       "      <td>0.753394</td>\n",
       "      <td>-0.220842</td>\n",
       "      <td>-0.003974</td>\n",
       "      <td>1.000000</td>\n",
       "      <td>-0.312670</td>\n",
       "    </tr>\n",
       "    <tr>\n",
       "      <th>Sound_Pressure_Level</th>\n",
       "      <td>-0.390711</td>\n",
       "      <td>-0.156108</td>\n",
       "      <td>-0.236162</td>\n",
       "      <td>0.125103</td>\n",
       "      <td>-0.312670</td>\n",
       "      <td>1.000000</td>\n",
       "    </tr>\n",
       "  </tbody>\n",
       "</table>\n",
       "</div>"
      ],
      "text/plain": [
       "                        Frequency  Angle_of_attack  Chord_length  \\\n",
       "Frequency                1.000000        -0.272765     -0.003661   \n",
       "Angle_of_attack         -0.272765         1.000000     -0.504868   \n",
       "Chord_length            -0.003661        -0.504868      1.000000   \n",
       "stream_velocity          0.133664         0.058760      0.003787   \n",
       "displacement_thickness  -0.230107         0.753394     -0.220842   \n",
       "Sound_Pressure_Level    -0.390711        -0.156108     -0.236162   \n",
       "\n",
       "                        stream_velocity  displacement_thickness  \\\n",
       "Frequency                      0.133664               -0.230107   \n",
       "Angle_of_attack                0.058760                0.753394   \n",
       "Chord_length                   0.003787               -0.220842   \n",
       "stream_velocity                1.000000               -0.003974   \n",
       "displacement_thickness        -0.003974                1.000000   \n",
       "Sound_Pressure_Level           0.125103               -0.312670   \n",
       "\n",
       "                        Sound_Pressure_Level  \n",
       "Frequency                          -0.390711  \n",
       "Angle_of_attack                    -0.156108  \n",
       "Chord_length                       -0.236162  \n",
       "stream_velocity                     0.125103  \n",
       "displacement_thickness             -0.312670  \n",
       "Sound_Pressure_Level                1.000000  "
      ]
     },
     "execution_count": 8,
     "metadata": {},
     "output_type": "execute_result"
    }
   ],
   "source": [
    "df.corr()"
   ]
  },
  {
   "cell_type": "code",
   "execution_count": 9,
   "id": "9c2cc302",
   "metadata": {
    "scrolled": true
   },
   "outputs": [
    {
     "data": {
      "text/plain": [
       "Frequency                 0\n",
       "Angle_of_attack           0\n",
       "Chord_length              0\n",
       "stream_velocity           0\n",
       "displacement_thickness    0\n",
       "Sound_Pressure_Level      0\n",
       "dtype: int64"
      ]
     },
     "execution_count": 9,
     "metadata": {},
     "output_type": "execute_result"
    }
   ],
   "source": [
    "df.isnull().sum()"
   ]
  },
  {
   "cell_type": "code",
   "execution_count": 10,
   "id": "23ed2560",
   "metadata": {},
   "outputs": [
    {
     "data": {
      "text/plain": [
       "(1503, 6)"
      ]
     },
     "execution_count": 10,
     "metadata": {},
     "output_type": "execute_result"
    }
   ],
   "source": [
    "df.shape"
   ]
  },
  {
   "cell_type": "markdown",
   "id": "ad840976",
   "metadata": {},
   "source": [
    "- Defining Input and Output Features"
   ]
  },
  {
   "cell_type": "code",
   "execution_count": 11,
   "id": "45f9edd9",
   "metadata": {},
   "outputs": [],
   "source": [
    "x = df.iloc[:,:-1]\n",
    "y = df.iloc[:,-1]"
   ]
  },
  {
   "cell_type": "code",
   "execution_count": 12,
   "id": "ce4d190d",
   "metadata": {},
   "outputs": [
    {
     "data": {
      "text/plain": [
       "0       126.201\n",
       "1       125.201\n",
       "2       125.951\n",
       "3       127.591\n",
       "4       127.461\n",
       "         ...   \n",
       "1498    110.264\n",
       "1499    109.254\n",
       "1500    106.604\n",
       "1501    106.224\n",
       "1502    104.204\n",
       "Name: Sound_Pressure_Level, Length: 1503, dtype: float64"
      ]
     },
     "execution_count": 12,
     "metadata": {},
     "output_type": "execute_result"
    }
   ],
   "source": [
    "y"
   ]
  },
  {
   "cell_type": "markdown",
   "id": "9535ee98",
   "metadata": {},
   "source": [
    "- Train Test Split"
   ]
  },
  {
   "cell_type": "code",
   "execution_count": 13,
   "id": "d27d5518",
   "metadata": {},
   "outputs": [],
   "source": [
    "from sklearn.model_selection import train_test_split\n",
    "x_train,x_test,y_train,y_test = train_test_split(x,y, test_size = 0.30, random_state = 0)"
   ]
  },
  {
   "cell_type": "code",
   "execution_count": 14,
   "id": "95689612",
   "metadata": {},
   "outputs": [
    {
     "data": {
      "text/html": [
       "<div>\n",
       "<style scoped>\n",
       "    .dataframe tbody tr th:only-of-type {\n",
       "        vertical-align: middle;\n",
       "    }\n",
       "\n",
       "    .dataframe tbody tr th {\n",
       "        vertical-align: top;\n",
       "    }\n",
       "\n",
       "    .dataframe thead th {\n",
       "        text-align: right;\n",
       "    }\n",
       "</style>\n",
       "<table border=\"1\" class=\"dataframe\">\n",
       "  <thead>\n",
       "    <tr style=\"text-align: right;\">\n",
       "      <th></th>\n",
       "      <th>Frequency</th>\n",
       "      <th>Angle_of_attack</th>\n",
       "      <th>Chord_length</th>\n",
       "      <th>stream_velocity</th>\n",
       "      <th>displacement_thickness</th>\n",
       "    </tr>\n",
       "  </thead>\n",
       "  <tbody>\n",
       "    <tr>\n",
       "      <th>820</th>\n",
       "      <td>500</td>\n",
       "      <td>8.4</td>\n",
       "      <td>0.0508</td>\n",
       "      <td>39.6</td>\n",
       "      <td>0.005662</td>\n",
       "    </tr>\n",
       "    <tr>\n",
       "      <th>879</th>\n",
       "      <td>2000</td>\n",
       "      <td>15.4</td>\n",
       "      <td>0.0508</td>\n",
       "      <td>71.3</td>\n",
       "      <td>0.026427</td>\n",
       "    </tr>\n",
       "    <tr>\n",
       "      <th>946</th>\n",
       "      <td>3150</td>\n",
       "      <td>19.7</td>\n",
       "      <td>0.0508</td>\n",
       "      <td>71.3</td>\n",
       "      <td>0.034118</td>\n",
       "    </tr>\n",
       "    <tr>\n",
       "      <th>862</th>\n",
       "      <td>1000</td>\n",
       "      <td>11.2</td>\n",
       "      <td>0.0508</td>\n",
       "      <td>39.6</td>\n",
       "      <td>0.015048</td>\n",
       "    </tr>\n",
       "    <tr>\n",
       "      <th>704</th>\n",
       "      <td>2500</td>\n",
       "      <td>12.6</td>\n",
       "      <td>0.1524</td>\n",
       "      <td>71.3</td>\n",
       "      <td>0.048316</td>\n",
       "    </tr>\n",
       "    <tr>\n",
       "      <th>...</th>\n",
       "      <td>...</td>\n",
       "      <td>...</td>\n",
       "      <td>...</td>\n",
       "      <td>...</td>\n",
       "      <td>...</td>\n",
       "    </tr>\n",
       "    <tr>\n",
       "      <th>763</th>\n",
       "      <td>12500</td>\n",
       "      <td>0.0</td>\n",
       "      <td>0.0508</td>\n",
       "      <td>39.6</td>\n",
       "      <td>0.000792</td>\n",
       "    </tr>\n",
       "    <tr>\n",
       "      <th>835</th>\n",
       "      <td>1250</td>\n",
       "      <td>8.4</td>\n",
       "      <td>0.0508</td>\n",
       "      <td>31.7</td>\n",
       "      <td>0.005808</td>\n",
       "    </tr>\n",
       "    <tr>\n",
       "      <th>1216</th>\n",
       "      <td>1250</td>\n",
       "      <td>22.2</td>\n",
       "      <td>0.0254</td>\n",
       "      <td>71.3</td>\n",
       "      <td>0.021418</td>\n",
       "    </tr>\n",
       "    <tr>\n",
       "      <th>559</th>\n",
       "      <td>1250</td>\n",
       "      <td>5.4</td>\n",
       "      <td>0.1524</td>\n",
       "      <td>55.5</td>\n",
       "      <td>0.004333</td>\n",
       "    </tr>\n",
       "    <tr>\n",
       "      <th>684</th>\n",
       "      <td>1000</td>\n",
       "      <td>9.9</td>\n",
       "      <td>0.1524</td>\n",
       "      <td>31.7</td>\n",
       "      <td>0.025278</td>\n",
       "    </tr>\n",
       "  </tbody>\n",
       "</table>\n",
       "<p>1052 rows × 5 columns</p>\n",
       "</div>"
      ],
      "text/plain": [
       "      Frequency  Angle_of_attack  Chord_length  stream_velocity  \\\n",
       "820         500              8.4        0.0508             39.6   \n",
       "879        2000             15.4        0.0508             71.3   \n",
       "946        3150             19.7        0.0508             71.3   \n",
       "862        1000             11.2        0.0508             39.6   \n",
       "704        2500             12.6        0.1524             71.3   \n",
       "...         ...              ...           ...              ...   \n",
       "763       12500              0.0        0.0508             39.6   \n",
       "835        1250              8.4        0.0508             31.7   \n",
       "1216       1250             22.2        0.0254             71.3   \n",
       "559        1250              5.4        0.1524             55.5   \n",
       "684        1000              9.9        0.1524             31.7   \n",
       "\n",
       "      displacement_thickness  \n",
       "820                 0.005662  \n",
       "879                 0.026427  \n",
       "946                 0.034118  \n",
       "862                 0.015048  \n",
       "704                 0.048316  \n",
       "...                      ...  \n",
       "763                 0.000792  \n",
       "835                 0.005808  \n",
       "1216                0.021418  \n",
       "559                 0.004333  \n",
       "684                 0.025278  \n",
       "\n",
       "[1052 rows x 5 columns]"
      ]
     },
     "execution_count": 14,
     "metadata": {},
     "output_type": "execute_result"
    }
   ],
   "source": [
    "x_train"
   ]
  },
  {
   "cell_type": "markdown",
   "id": "186a96f9",
   "metadata": {},
   "source": [
    "# EDA"
   ]
  },
  {
   "cell_type": "code",
   "execution_count": 15,
   "id": "11edc64f",
   "metadata": {},
   "outputs": [
    {
     "data": {
      "text/html": [
       "<div>\n",
       "<style scoped>\n",
       "    .dataframe tbody tr th:only-of-type {\n",
       "        vertical-align: middle;\n",
       "    }\n",
       "\n",
       "    .dataframe tbody tr th {\n",
       "        vertical-align: top;\n",
       "    }\n",
       "\n",
       "    .dataframe thead th {\n",
       "        text-align: right;\n",
       "    }\n",
       "</style>\n",
       "<table border=\"1\" class=\"dataframe\">\n",
       "  <thead>\n",
       "    <tr style=\"text-align: right;\">\n",
       "      <th></th>\n",
       "      <th>Frequency</th>\n",
       "      <th>Angle_of_attack</th>\n",
       "      <th>Chord_length</th>\n",
       "      <th>stream_velocity</th>\n",
       "      <th>displacement_thickness</th>\n",
       "    </tr>\n",
       "  </thead>\n",
       "  <tbody>\n",
       "    <tr>\n",
       "      <th>Frequency</th>\n",
       "      <td>1.000000</td>\n",
       "      <td>-0.270737</td>\n",
       "      <td>0.003595</td>\n",
       "      <td>0.138767</td>\n",
       "      <td>-0.241245</td>\n",
       "    </tr>\n",
       "    <tr>\n",
       "      <th>Angle_of_attack</th>\n",
       "      <td>-0.270737</td>\n",
       "      <td>1.000000</td>\n",
       "      <td>-0.509920</td>\n",
       "      <td>0.057222</td>\n",
       "      <td>0.756393</td>\n",
       "    </tr>\n",
       "    <tr>\n",
       "      <th>Chord_length</th>\n",
       "      <td>0.003595</td>\n",
       "      <td>-0.509920</td>\n",
       "      <td>1.000000</td>\n",
       "      <td>0.018383</td>\n",
       "      <td>-0.231793</td>\n",
       "    </tr>\n",
       "    <tr>\n",
       "      <th>stream_velocity</th>\n",
       "      <td>0.138767</td>\n",
       "      <td>0.057222</td>\n",
       "      <td>0.018383</td>\n",
       "      <td>1.000000</td>\n",
       "      <td>0.013864</td>\n",
       "    </tr>\n",
       "    <tr>\n",
       "      <th>displacement_thickness</th>\n",
       "      <td>-0.241245</td>\n",
       "      <td>0.756393</td>\n",
       "      <td>-0.231793</td>\n",
       "      <td>0.013864</td>\n",
       "      <td>1.000000</td>\n",
       "    </tr>\n",
       "  </tbody>\n",
       "</table>\n",
       "</div>"
      ],
      "text/plain": [
       "                        Frequency  Angle_of_attack  Chord_length  \\\n",
       "Frequency                1.000000        -0.270737      0.003595   \n",
       "Angle_of_attack         -0.270737         1.000000     -0.509920   \n",
       "Chord_length             0.003595        -0.509920      1.000000   \n",
       "stream_velocity          0.138767         0.057222      0.018383   \n",
       "displacement_thickness  -0.241245         0.756393     -0.231793   \n",
       "\n",
       "                        stream_velocity  displacement_thickness  \n",
       "Frequency                      0.138767               -0.241245  \n",
       "Angle_of_attack                0.057222                0.756393  \n",
       "Chord_length                   0.018383               -0.231793  \n",
       "stream_velocity                1.000000                0.013864  \n",
       "displacement_thickness         0.013864                1.000000  "
      ]
     },
     "execution_count": 15,
     "metadata": {},
     "output_type": "execute_result"
    }
   ],
   "source": [
    "x_train.corr()"
   ]
  },
  {
   "cell_type": "code",
   "execution_count": 16,
   "id": "196cd40e",
   "metadata": {},
   "outputs": [
    {
     "data": {
      "text/plain": [
       "<seaborn.axisgrid.PairGrid at 0x1f22adfec88>"
      ]
     },
     "execution_count": 16,
     "metadata": {},
     "output_type": "execute_result"
    },
    {
     "data": {
      "image/png": "[encoded data removed]",
      "text/plain": [
       "<Figure size 1080x1080 with 42 Axes>"
      ]
     },
     "metadata": {
      "needs_background": "light"
     },
     "output_type": "display_data"
    }
   ],
   "source": [
    "sns.pairplot(df)"
   ]
  },
  {
   "cell_type": "code",
   "execution_count": 17,
   "id": "eda765dd",
   "metadata": {},
   "outputs": [
    {
     "data": {
      "text/plain": [
       "1456"
      ]
     },
     "execution_count": 17,
     "metadata": {},
     "output_type": "execute_result"
    }
   ],
   "source": [
    "len(y.unique())"
   ]
  },
  {
   "cell_type": "markdown",
   "id": "43e40721",
   "metadata": {},
   "source": [
    "- as there are many values in our output feature, we can consider this a a regression problem"
   ]
  },
  {
   "cell_type": "markdown",
   "id": "12c2a1c0",
   "metadata": {},
   "source": [
    "# Normalising the data for some algoritms"
   ]
  },
  {
   "cell_type": "code",
   "execution_count": 18,
   "id": "c7253aec",
   "metadata": {},
   "outputs": [],
   "source": [
    "from sklearn.preprocessing import StandardScaler"
   ]
  },
  {
   "cell_type": "code",
   "execution_count": 19,
   "id": "c8ccb8bc",
   "metadata": {},
   "outputs": [],
   "source": [
    "scl = StandardScaler()\n",
    "scl.fit(x_train)\n",
    "x_train_scaled = scl.transform(x_train)\n",
    "x_test_scaled = scl.transform(x_test)\n"
   ]
  },
  {
   "cell_type": "markdown",
   "id": "9914c4b2",
   "metadata": {},
   "source": [
    "# Linear Regression Model"
   ]
  },
  {
   "cell_type": "code",
   "execution_count": 20,
   "id": "18e40551",
   "metadata": {},
   "outputs": [],
   "source": [
    "from sklearn.linear_model import LinearRegression"
   ]
  },
  {
   "cell_type": "code",
   "execution_count": 21,
   "id": "848fa971",
   "metadata": {},
   "outputs": [],
   "source": [
    "lr = LinearRegression()"
   ]
  },
  {
   "cell_type": "code",
   "execution_count": 22,
   "id": "420d7e14",
   "metadata": {},
   "outputs": [
    {
     "data": {
      "text/plain": [
       "LinearRegression()"
      ]
     },
     "execution_count": 22,
     "metadata": {},
     "output_type": "execute_result"
    }
   ],
   "source": [
    "lr.fit(x_train, y_train)"
   ]
  },
  {
   "cell_type": "code",
   "execution_count": 23,
   "id": "642e8f6d",
   "metadata": {},
   "outputs": [],
   "source": [
    "y_pred_lr = lr.predict(x_test)"
   ]
  },
  {
   "cell_type": "markdown",
   "id": "ed7bc5af",
   "metadata": {},
   "source": [
    "- Model Evaluation"
   ]
  },
  {
   "cell_type": "code",
   "execution_count": 24,
   "id": "add52987",
   "metadata": {},
   "outputs": [],
   "source": [
    "from sklearn.metrics import r2_score, mean_squared_error, mean_absolute_error"
   ]
  },
  {
   "cell_type": "code",
   "execution_count": 25,
   "id": "14d9590a",
   "metadata": {},
   "outputs": [
    {
     "name": "stdout",
     "output_type": "stream",
     "text": [
      "The R2 score for this model is  0.5236569764926969\n",
      "The mean_squared_error for this model is  22.395946643814163\n",
      "The mean_absolute_error for this model is  3.674731065415621\n"
     ]
    }
   ],
   "source": [
    "print('The R2 score for this model is ', r2_score(y_test,y_pred_lr))\n",
    "print('The mean_squared_error for this model is ', mean_squared_error(y_test,y_pred_lr))\n",
    "print('The mean_absolute_error for this model is ', mean_absolute_error(y_test,y_pred_lr))"
   ]
  },
  {
   "cell_type": "code",
   "execution_count": 26,
   "id": "41766e5e",
   "metadata": {},
   "outputs": [],
   "source": [
    "r2_lr = r2_score(y_test,y_pred_lr)"
   ]
  },
  {
   "cell_type": "markdown",
   "id": "8ced2020",
   "metadata": {},
   "source": [
    "# Lasso Regression Model"
   ]
  },
  {
   "cell_type": "code",
   "execution_count": 27,
   "id": "c7753e8d",
   "metadata": {},
   "outputs": [],
   "source": [
    "from sklearn.linear_model import Lasso"
   ]
  },
  {
   "cell_type": "code",
   "execution_count": 28,
   "id": "068a1077",
   "metadata": {},
   "outputs": [],
   "source": [
    "lasso = Lasso()"
   ]
  },
  {
   "cell_type": "code",
   "execution_count": 29,
   "id": "a683598a",
   "metadata": {},
   "outputs": [
    {
     "data": {
      "text/plain": [
       "Lasso()"
      ]
     },
     "execution_count": 29,
     "metadata": {},
     "output_type": "execute_result"
    }
   ],
   "source": [
    "lasso.fit(x_train, y_train)"
   ]
  },
  {
   "cell_type": "code",
   "execution_count": 30,
   "id": "5082365f",
   "metadata": {},
   "outputs": [],
   "source": [
    "y_pred_ls = lasso.predict(x_test)"
   ]
  },
  {
   "cell_type": "markdown",
   "id": "1de3ac29",
   "metadata": {},
   "source": [
    "- Model Evaluation"
   ]
  },
  {
   "cell_type": "code",
   "execution_count": 31,
   "id": "9df63449",
   "metadata": {},
   "outputs": [
    {
     "name": "stdout",
     "output_type": "stream",
     "text": [
      "The R2 score for this model is  0.3151990077467093\n",
      "The mean_squared_error for this model is  32.19689536169004\n",
      "The mean_absolute_error for this model is  4.536516104573355\n"
     ]
    }
   ],
   "source": [
    "print('The R2 score for this model is ', r2_score(y_test,y_pred_ls))\n",
    "print('The mean_squared_error for this model is ', mean_squared_error(y_test,y_pred_ls))\n",
    "print('The mean_absolute_error for this model is ', mean_absolute_error(y_test,y_pred_ls))"
   ]
  },
  {
   "cell_type": "code",
   "execution_count": 32,
   "id": "c0c01529",
   "metadata": {},
   "outputs": [],
   "source": [
    "r2_ls = r2_score(y_test,y_pred_ls)"
   ]
  },
  {
   "cell_type": "markdown",
   "id": "6864bc78",
   "metadata": {},
   "source": [
    "# Ridge Regression Model"
   ]
  },
  {
   "cell_type": "code",
   "execution_count": 33,
   "id": "cc271561",
   "metadata": {},
   "outputs": [],
   "source": [
    "from sklearn.linear_model import Ridge"
   ]
  },
  {
   "cell_type": "code",
   "execution_count": 34,
   "id": "0a32dce0",
   "metadata": {},
   "outputs": [],
   "source": [
    "ridge = Ridge()"
   ]
  },
  {
   "cell_type": "code",
   "execution_count": 35,
   "id": "93471a9e",
   "metadata": {},
   "outputs": [
    {
     "data": {
      "text/plain": [
       "Ridge()"
      ]
     },
     "execution_count": 35,
     "metadata": {},
     "output_type": "execute_result"
    }
   ],
   "source": [
    "ridge.fit(x_train, y_train)"
   ]
  },
  {
   "cell_type": "code",
   "execution_count": 36,
   "id": "55c2dc60",
   "metadata": {},
   "outputs": [],
   "source": [
    "y_pred_rdg = ridge.predict(x_test)"
   ]
  },
  {
   "cell_type": "markdown",
   "id": "c4efdedf",
   "metadata": {},
   "source": [
    "- Model Evaluation"
   ]
  },
  {
   "cell_type": "code",
   "execution_count": 37,
   "id": "32d3e4b5",
   "metadata": {},
   "outputs": [
    {
     "name": "stdout",
     "output_type": "stream",
     "text": [
      "The R2 score for this model is  0.5028087836371785\n",
      "The mean_squared_error for this model is  23.376154166062\n",
      "The mean_absolute_error for this model is  3.816122291592529\n"
     ]
    }
   ],
   "source": [
    "print('The R2 score for this model is ', r2_score(y_test,y_pred_rdg))\n",
    "print('The mean_squared_error for this model is ', mean_squared_error(y_test,y_pred_rdg))\n",
    "print('The mean_absolute_error for this model is ', mean_absolute_error(y_test,y_pred_rdg))"
   ]
  },
  {
   "cell_type": "code",
   "execution_count": 38,
   "id": "170bb288",
   "metadata": {},
   "outputs": [],
   "source": [
    "r2_rdg = r2_score(y_test,y_pred_rdg)"
   ]
  },
  {
   "cell_type": "markdown",
   "id": "c18e102a",
   "metadata": {},
   "source": [
    "# Elasticnet Regression Model"
   ]
  },
  {
   "cell_type": "code",
   "execution_count": 39,
   "id": "b6664d90",
   "metadata": {},
   "outputs": [],
   "source": [
    "from sklearn.linear_model import ElasticNet"
   ]
  },
  {
   "cell_type": "code",
   "execution_count": 40,
   "id": "1a3a2442",
   "metadata": {},
   "outputs": [],
   "source": [
    "enet = ElasticNet()"
   ]
  },
  {
   "cell_type": "code",
   "execution_count": 41,
   "id": "b28a600e",
   "metadata": {},
   "outputs": [
    {
     "data": {
      "text/plain": [
       "ElasticNet()"
      ]
     },
     "execution_count": 41,
     "metadata": {},
     "output_type": "execute_result"
    }
   ],
   "source": [
    "enet.fit(x_train, y_train)"
   ]
  },
  {
   "cell_type": "code",
   "execution_count": 42,
   "id": "6cfbac9f",
   "metadata": {},
   "outputs": [],
   "source": [
    "y_pred_ent = enet.predict(x_test)"
   ]
  },
  {
   "cell_type": "markdown",
   "id": "7db6d65c",
   "metadata": {},
   "source": [
    "- Model Evaluation"
   ]
  },
  {
   "cell_type": "code",
   "execution_count": 43,
   "id": "79cdd2b4",
   "metadata": {},
   "outputs": [
    {
     "name": "stdout",
     "output_type": "stream",
     "text": [
      "The R2 score for this model is  0.31695751664078053\n",
      "The mean_squared_error for this model is  32.114216557927335\n",
      "The mean_absolute_error for this model is  4.536781092624099\n"
     ]
    }
   ],
   "source": [
    "print('The R2 score for this model is ', r2_score(y_test,y_pred_ent))\n",
    "print('The mean_squared_error for this model is ', mean_squared_error(y_test,y_pred_ent))\n",
    "print('The mean_absolute_error for this model is ', mean_absolute_error(y_test,y_pred_ent))"
   ]
  },
  {
   "cell_type": "code",
   "execution_count": 44,
   "id": "3693ab4f",
   "metadata": {},
   "outputs": [],
   "source": [
    "r2_enet = r2_score(y_test,y_pred_ent)"
   ]
  },
  {
   "cell_type": "markdown",
   "id": "0b12c8dc",
   "metadata": {},
   "source": [
    "# SVR"
   ]
  },
  {
   "cell_type": "code",
   "execution_count": 45,
   "id": "e9856bf2",
   "metadata": {},
   "outputs": [],
   "source": [
    "from sklearn.svm import SVR"
   ]
  },
  {
   "cell_type": "code",
   "execution_count": 46,
   "id": "93e303fc",
   "metadata": {},
   "outputs": [],
   "source": [
    "svr = SVR()"
   ]
  },
  {
   "cell_type": "code",
   "execution_count": 47,
   "id": "7ea7fabd",
   "metadata": {},
   "outputs": [
    {
     "data": {
      "text/plain": [
       "SVR()"
      ]
     },
     "execution_count": 47,
     "metadata": {},
     "output_type": "execute_result"
    }
   ],
   "source": [
    "svr.fit(x_train_scaled, y_train)"
   ]
  },
  {
   "cell_type": "code",
   "execution_count": 48,
   "id": "3e0a4568",
   "metadata": {},
   "outputs": [],
   "source": [
    "y_pred_svr = svr.predict(x_test_scaled)"
   ]
  },
  {
   "cell_type": "markdown",
   "id": "3c75fbd7",
   "metadata": {},
   "source": [
    "- Model Evaluation"
   ]
  },
  {
   "cell_type": "code",
   "execution_count": 49,
   "id": "dc6c9095",
   "metadata": {
    "scrolled": true
   },
   "outputs": [
    {
     "name": "stdout",
     "output_type": "stream",
     "text": [
      "The R2 score for this model is  0.7003122766743424\n",
      "The mean_squared_error for this model is  14.090245747673197\n",
      "The mean_absolute_error for this model is  2.8350852112316502\n"
     ]
    }
   ],
   "source": [
    "print('The R2 score for this model is ', r2_score(y_test,y_pred_svr))\n",
    "print('The mean_squared_error for this model is ', mean_squared_error(y_test,y_pred_svr))\n",
    "print('The mean_absolute_error for this model is ', mean_absolute_error(y_test,y_pred_svr))"
   ]
  },
  {
   "cell_type": "code",
   "execution_count": 50,
   "id": "fe31a901",
   "metadata": {},
   "outputs": [],
   "source": [
    "r2_svr = r2_score(y_test,y_pred_svr)"
   ]
  },
  {
   "cell_type": "markdown",
   "id": "e331889a",
   "metadata": {},
   "source": [
    "# Decision Tree Regressor"
   ]
  },
  {
   "cell_type": "code",
   "execution_count": 51,
   "id": "374c3659",
   "metadata": {},
   "outputs": [],
   "source": [
    "from sklearn.tree import DecisionTreeRegressor"
   ]
  },
  {
   "cell_type": "code",
   "execution_count": 52,
   "id": "8377e40f",
   "metadata": {},
   "outputs": [],
   "source": [
    "dtr = DecisionTreeRegressor()"
   ]
  },
  {
   "cell_type": "code",
   "execution_count": 53,
   "id": "85663e4b",
   "metadata": {},
   "outputs": [
    {
     "data": {
      "text/plain": [
       "DecisionTreeRegressor()"
      ]
     },
     "execution_count": 53,
     "metadata": {},
     "output_type": "execute_result"
    }
   ],
   "source": [
    "dtr.fit(x_train_scaled, y_train)"
   ]
  },
  {
   "cell_type": "code",
   "execution_count": 54,
   "id": "e034401a",
   "metadata": {},
   "outputs": [],
   "source": [
    "y_pred_dtr = dtr.predict(x_test_scaled)"
   ]
  },
  {
   "cell_type": "markdown",
   "id": "7041424a",
   "metadata": {},
   "source": [
    "- Model Evaluation"
   ]
  },
  {
   "cell_type": "code",
   "execution_count": 55,
   "id": "443387d1",
   "metadata": {},
   "outputs": [
    {
     "name": "stdout",
     "output_type": "stream",
     "text": [
      "The R2 score for this model is  0.8775252644322188\n",
      "The mean_squared_error for this model is  5.758324374722838\n",
      "The mean_absolute_error for this model is  1.811079822616408\n"
     ]
    }
   ],
   "source": [
    "print('The R2 score for this model is ', r2_score(y_test,y_pred_dtr))\n",
    "print('The mean_squared_error for this model is ', mean_squared_error(y_test,y_pred_dtr))\n",
    "print('The mean_absolute_error for this model is ', mean_absolute_error(y_test,y_pred_dtr))"
   ]
  },
  {
   "cell_type": "code",
   "execution_count": 56,
   "id": "fe84b25f",
   "metadata": {},
   "outputs": [],
   "source": [
    "r2_dtr = r2_score(y_test,y_pred_dtr)"
   ]
  },
  {
   "cell_type": "markdown",
   "id": "a00f3fb4",
   "metadata": {},
   "source": [
    "# Random Forest Regressor"
   ]
  },
  {
   "cell_type": "code",
   "execution_count": 57,
   "id": "5a6a90ec",
   "metadata": {},
   "outputs": [],
   "source": [
    "from sklearn.ensemble import RandomForestRegressor"
   ]
  },
  {
   "cell_type": "code",
   "execution_count": 58,
   "id": "e6e12fad",
   "metadata": {},
   "outputs": [],
   "source": [
    "rfr = RandomForestRegressor()"
   ]
  },
  {
   "cell_type": "code",
   "execution_count": 59,
   "id": "ab910978",
   "metadata": {},
   "outputs": [
    {
     "data": {
      "text/plain": [
       "RandomForestRegressor()"
      ]
     },
     "execution_count": 59,
     "metadata": {},
     "output_type": "execute_result"
    }
   ],
   "source": [
    "rfr.fit(x_train_scaled, y_train)"
   ]
  },
  {
   "cell_type": "code",
   "execution_count": 60,
   "id": "963c059c",
   "metadata": {},
   "outputs": [],
   "source": [
    "y_pred_rfr = rfr.predict(x_test_scaled)"
   ]
  },
  {
   "cell_type": "markdown",
   "id": "eba16417",
   "metadata": {},
   "source": [
    "- Model Evaluation"
   ]
  },
  {
   "cell_type": "code",
   "execution_count": 61,
   "id": "d880d7c5",
   "metadata": {},
   "outputs": [
    {
     "name": "stdout",
     "output_type": "stream",
     "text": [
      "The R2 score for this model is  0.9342455826009336\n",
      "The mean_squared_error for this model is  3.091537717549883\n",
      "The mean_absolute_error for this model is  1.296089711751661\n"
     ]
    }
   ],
   "source": [
    "print('The R2 score for this model is ', r2_score(y_test,y_pred_rfr))\n",
    "print('The mean_squared_error for this model is ', mean_squared_error(y_test,y_pred_rfr))\n",
    "print('The mean_absolute_error for this model is ', mean_absolute_error(y_test,y_pred_rfr))"
   ]
  },
  {
   "cell_type": "code",
   "execution_count": 62,
   "id": "f4fd6458",
   "metadata": {},
   "outputs": [],
   "source": [
    "r2_rfr = r2_score(y_test,y_pred_rfr)"
   ]
  },
  {
   "cell_type": "markdown",
   "id": "d6d5eee4",
   "metadata": {},
   "source": [
    "# Creating a table of results of all algorithms"
   ]
  },
  {
   "cell_type": "code",
   "execution_count": 63,
   "id": "fcde7fd1",
   "metadata": {},
   "outputs": [],
   "source": [
    "results_model = {'Model' : ['Linear Regression', 'Lasso Regrssion', 'Ridge Regression', 'ElasticNet Regression', 'Support Vector Regression', 'Decision Tree Regression', 'Random Forest Regression'], \n",
    "                 'R2 Score' : [r2_lr, r2_ls, r2_rdg, r2_enet, r2_svr, r2_dtr, r2_rfr],\n",
    "                 'Percentage(R2 Score)' : [r2_lr*100, r2_ls*100, r2_rdg*100, r2_enet*100, r2_svr*100, r2_dtr*100, r2_rfr*100,]\n",
    "                }"
   ]
  },
  {
   "cell_type": "code",
   "execution_count": 64,
   "id": "10b904c0",
   "metadata": {},
   "outputs": [],
   "source": [
    "results = pd.DataFrame(data = results_model)"
   ]
  },
  {
   "cell_type": "code",
   "execution_count": 65,
   "id": "c79bb74b",
   "metadata": {
    "scrolled": false
   },
   "outputs": [
    {
     "data": {
      "text/html": [
       "<div>\n",
       "<style scoped>\n",
       "    .dataframe tbody tr th:only-of-type {\n",
       "        vertical-align: middle;\n",
       "    }\n",
       "\n",
       "    .dataframe tbody tr th {\n",
       "        vertical-align: top;\n",
       "    }\n",
       "\n",
       "    .dataframe thead th {\n",
       "        text-align: right;\n",
       "    }\n",
       "</style>\n",
       "<table border=\"1\" class=\"dataframe\">\n",
       "  <thead>\n",
       "    <tr style=\"text-align: right;\">\n",
       "      <th></th>\n",
       "      <th>Model</th>\n",
       "      <th>R2 Score</th>\n",
       "      <th>Percentage(R2 Score)</th>\n",
       "    </tr>\n",
       "  </thead>\n",
       "  <tbody>\n",
       "    <tr>\n",
       "      <th>0</th>\n",
       "      <td>Linear Regression</td>\n",
       "      <td>0.523657</td>\n",
       "      <td>52.365698</td>\n",
       "    </tr>\n",
       "    <tr>\n",
       "      <th>1</th>\n",
       "      <td>Lasso Regrssion</td>\n",
       "      <td>0.315199</td>\n",
       "      <td>31.519901</td>\n",
       "    </tr>\n",
       "    <tr>\n",
       "      <th>2</th>\n",
       "      <td>Ridge Regression</td>\n",
       "      <td>0.502809</td>\n",
       "      <td>50.280878</td>\n",
       "    </tr>\n",
       "    <tr>\n",
       "      <th>3</th>\n",
       "      <td>ElasticNet Regression</td>\n",
       "      <td>0.316958</td>\n",
       "      <td>31.695752</td>\n",
       "    </tr>\n",
       "    <tr>\n",
       "      <th>4</th>\n",
       "      <td>Support Vector Regression</td>\n",
       "      <td>0.700312</td>\n",
       "      <td>70.031228</td>\n",
       "    </tr>\n",
       "    <tr>\n",
       "      <th>5</th>\n",
       "      <td>Decision Tree Regression</td>\n",
       "      <td>0.877525</td>\n",
       "      <td>87.752526</td>\n",
       "    </tr>\n",
       "    <tr>\n",
       "      <th>6</th>\n",
       "      <td>Random Forest Regression</td>\n",
       "      <td>0.934246</td>\n",
       "      <td>93.424558</td>\n",
       "    </tr>\n",
       "  </tbody>\n",
       "</table>\n",
       "</div>"
      ],
      "text/plain": [
       "                       Model  R2 Score  Percentage(R2 Score)\n",
       "0          Linear Regression  0.523657             52.365698\n",
       "1            Lasso Regrssion  0.315199             31.519901\n",
       "2           Ridge Regression  0.502809             50.280878\n",
       "3      ElasticNet Regression  0.316958             31.695752\n",
       "4  Support Vector Regression  0.700312             70.031228\n",
       "5   Decision Tree Regression  0.877525             87.752526\n",
       "6   Random Forest Regression  0.934246             93.424558"
      ]
     },
     "execution_count": 65,
     "metadata": {},
     "output_type": "execute_result"
    }
   ],
   "source": [
    "results"
   ]
  },
  {
   "cell_type": "markdown",
   "id": "3bf5c880",
   "metadata": {},
   "source": [
    "# Creating a pickle file to deploy the model"
   ]
  },
  {
   "cell_type": "code",
   "execution_count": 66,
   "id": "59d7c9ca",
   "metadata": {},
   "outputs": [],
   "source": [
    "import pickle"
   ]
  },
  {
   "cell_type": "code",
   "execution_count": 67,
   "id": "6c0eac09",
   "metadata": {},
   "outputs": [],
   "source": [
    "pickle.dump(rfr, open('model.pkl', 'wb'))"
   ]
  },
  {
   "cell_type": "code",
   "execution_count": 68,
   "id": "34830b12",
   "metadata": {},
   "outputs": [],
   "source": [
    "pickled_model = pickle.load(open('model.pkl', 'rb'))"
   ]
  },
  {
   "cell_type": "markdown",
   "id": "e9177ea1",
   "metadata": {},
   "source": [
    "# Bulk Input"
   ]
  },
  {
   "cell_type": "code",
   "execution_count": 69,
   "id": "a3098986",
   "metadata": {},
   "outputs": [
    {
     "data": {
      "text/plain": [
       "array([110.59502, 110.59502, 110.62893, 110.62893, 110.62893, 110.59502,\n",
       "       110.62893, 110.59502, 110.62893, 110.59502, 110.62893, 110.62893,\n",
       "       110.59502, 110.62893, 110.62893, 110.62893, 110.62893, 110.59502,\n",
       "       110.59114, 110.62893, 110.62893, 110.62893, 110.62893, 110.62893,\n",
       "       110.62893, 110.62893, 110.59502, 110.62893, 110.62893, 110.62893,\n",
       "       110.62893, 110.59502, 110.59114, 110.62893, 110.62893, 110.62893,\n",
       "       110.59502, 110.62893, 110.62893, 110.62893, 110.59502, 110.62893,\n",
       "       110.62893, 110.62893, 110.62893, 110.62893, 110.62893, 110.59502,\n",
       "       110.62893, 110.59502, 110.62893, 110.62893, 110.59502, 110.62893,\n",
       "       110.62893, 110.62893, 110.59502, 110.62893, 110.62893, 110.62893,\n",
       "       110.62893, 110.62893, 110.62893, 110.62893, 110.62893, 110.62893,\n",
       "       110.59502, 110.62893, 110.62893, 110.62893, 110.62893, 110.59502,\n",
       "       110.62893, 110.62893, 110.62893, 110.59502, 110.62893, 110.62893,\n",
       "       110.62893, 110.59502, 110.62893, 110.62893, 110.62893, 110.62893,\n",
       "       110.62893, 110.62893, 110.62893, 110.62893, 110.62893, 110.62893,\n",
       "       110.62893, 110.62893, 110.62893, 110.62893, 110.59502, 110.59114,\n",
       "       110.62893, 110.59502, 110.62893, 110.59502, 110.59502, 110.59502,\n",
       "       110.62893, 110.62893, 110.59502, 110.62893, 110.62893, 110.59502,\n",
       "       110.62893, 110.62893, 110.62893, 110.62893, 110.59502, 110.59502,\n",
       "       110.59502, 110.62893, 110.62893, 110.62893, 110.59502, 110.62893,\n",
       "       110.59502, 110.62893, 110.59502, 110.62893, 110.62893, 110.62893,\n",
       "       110.62893, 110.62893, 110.62893, 110.62893, 110.62893, 110.59502,\n",
       "       110.62893, 110.62893, 110.62893, 110.62893, 110.62893, 110.62893,\n",
       "       110.62893, 110.59114, 110.62893, 110.59114, 110.62893, 110.62893,\n",
       "       110.62893, 110.62893, 110.59114, 110.59502, 110.62893, 110.62893,\n",
       "       110.59502, 110.62893, 110.62893, 110.59502, 110.59502, 110.62893,\n",
       "       110.62893, 110.62893, 110.62893, 110.59502, 110.62893, 110.62893,\n",
       "       110.62893, 110.62893, 110.62893, 110.62893, 110.62893, 110.62893,\n",
       "       110.59502, 110.62893, 110.59502, 110.62893, 110.62893, 110.59502,\n",
       "       110.62893, 110.62893, 110.62893, 110.62893, 110.59502, 110.59502,\n",
       "       110.62893, 110.62893, 110.62893, 110.62893, 110.59502, 110.62893,\n",
       "       110.62893, 110.62893, 110.62893, 110.59502, 110.62893, 110.62893,\n",
       "       110.62893, 110.62893, 110.62893, 110.62893, 110.59502, 110.62893,\n",
       "       110.62893, 110.62893, 110.62893, 110.62893, 110.59502, 110.59502,\n",
       "       110.62893, 110.62893, 110.62893, 110.62893, 110.62893, 110.59502,\n",
       "       110.59502, 110.59502, 110.62893, 110.59502, 110.59502, 110.59502,\n",
       "       110.62893, 110.59502, 110.62893, 110.62893, 110.62893, 110.62893,\n",
       "       110.62893, 110.59114, 110.62893, 110.62893, 110.62893, 110.62893,\n",
       "       110.59502, 110.62893, 110.62893, 110.62893, 110.59502, 110.62893,\n",
       "       110.62893, 110.62893, 110.62893, 110.62893, 110.62893, 110.62893,\n",
       "       110.59502, 110.59114, 110.59502, 110.59502, 110.62893, 110.62893,\n",
       "       110.59502, 110.59502, 110.62893, 110.62893, 110.62893, 110.62893,\n",
       "       110.62893, 110.59502, 110.59502, 110.62893, 110.59502, 110.59502,\n",
       "       110.62893, 110.59114, 110.62893, 110.62893, 110.62893, 110.62893,\n",
       "       110.62893, 110.62893, 110.62893, 110.62893, 110.62893, 110.62893,\n",
       "       110.62893, 110.62893, 110.59502, 110.62893, 110.62893, 110.59502,\n",
       "       110.62893, 110.62893, 110.62893, 110.62893, 110.62893, 110.62893,\n",
       "       110.62893, 110.62893, 110.62893, 110.62893, 110.62893, 110.59114,\n",
       "       110.62893, 110.62893, 110.62893, 110.62893, 110.62893, 110.59502,\n",
       "       110.59502, 110.59502, 110.62893, 110.59502, 110.59502, 110.62893,\n",
       "       110.62893, 110.62893, 110.62893, 110.59114, 110.59502, 110.62893,\n",
       "       110.62893, 110.59502, 110.59502, 110.62893, 110.59502, 110.62893,\n",
       "       110.62893, 110.62893, 110.62893, 110.62893, 110.62893, 110.62893,\n",
       "       110.62893, 110.62893, 110.59502, 110.59502, 110.62893, 110.59114,\n",
       "       110.62893, 110.59114, 110.59502, 110.59114, 110.62893, 110.62893,\n",
       "       110.59502, 110.62893, 110.62893, 110.59502, 110.62893, 110.59502,\n",
       "       110.62893, 110.59502, 110.62893, 110.62893, 110.62893, 110.62893,\n",
       "       110.62893, 110.62893, 110.59502, 110.62893, 110.59502, 110.59502,\n",
       "       110.62893, 110.62893, 110.62893, 110.59502, 110.62893, 110.59502,\n",
       "       110.62893, 110.62893, 110.62893, 110.59502, 110.62893, 110.59114,\n",
       "       110.62893, 110.59114, 110.62893, 110.59502, 110.62893, 110.62893,\n",
       "       110.62893, 110.62893, 110.62893, 110.62893, 110.59502, 110.62893,\n",
       "       110.62893, 110.62893, 110.62893, 110.59502, 110.62893, 110.62893,\n",
       "       110.62893, 110.59502, 110.62893, 110.62893, 110.62893, 110.62893,\n",
       "       110.62893, 110.59502, 110.62893, 110.62893, 110.62893, 110.62893,\n",
       "       110.62893, 110.62893, 110.62893, 110.59502, 110.62893, 110.62893,\n",
       "       110.62893, 110.62893, 110.59502, 110.62893, 110.59502, 110.62893,\n",
       "       110.62893, 110.59502, 110.62893, 110.62893, 110.62893, 110.62893,\n",
       "       110.62893, 110.59502, 110.62893, 110.59502, 110.62893, 110.62893,\n",
       "       110.59502, 110.59502, 110.62893, 110.62893, 110.59502, 110.62893,\n",
       "       110.62893, 110.62893, 110.62893, 110.62893, 110.62893, 110.62893,\n",
       "       110.62893, 110.62893, 110.62893, 110.62893, 110.62893, 110.62893,\n",
       "       110.59502, 110.62893, 110.62893, 110.62893, 110.62893, 110.62893,\n",
       "       110.62893, 110.62893, 110.62893, 110.62893, 110.59502, 110.62893,\n",
       "       110.62893, 110.62893, 110.62893, 110.62893, 110.62893, 110.59502,\n",
       "       110.59502])"
      ]
     },
     "execution_count": 69,
     "metadata": {},
     "output_type": "execute_result"
    }
   ],
   "source": [
    "pickled_model.predict(x_test)"
   ]
  },
  {
   "cell_type": "markdown",
   "id": "47373885",
   "metadata": {},
   "source": [
    "# Single input"
   ]
  },
  {
   "cell_type": "code",
   "execution_count": 70,
   "id": "1eeda8c8",
   "metadata": {},
   "outputs": [],
   "source": [
    "dict_input = {'Frequency': 399, 'Angle_of_attack': 0.5, 'Chord_length': 32, 'stream_velocity': 22.4,\n",
    "       'displacement_thickness':  0.034}"
   ]
  },
  {
   "cell_type": "code",
   "execution_count": 71,
   "id": "0aaa35e5",
   "metadata": {},
   "outputs": [
    {
     "data": {
      "text/plain": [
       "dict_values([399, 0.5, 32, 22.4, 0.034])"
      ]
     },
     "execution_count": 71,
     "metadata": {},
     "output_type": "execute_result"
    }
   ],
   "source": [
    "dict_input.values()"
   ]
  },
  {
   "cell_type": "code",
   "execution_count": 72,
   "id": "927bb9fb",
   "metadata": {},
   "outputs": [],
   "source": [
    "# Converting input into 2d array\n",
    "inp = [list(dict_input.values())]"
   ]
  },
  {
   "cell_type": "code",
   "execution_count": 73,
   "id": "ba9785fe",
   "metadata": {},
   "outputs": [
    {
     "data": {
      "text/plain": [
       "array([108.96185])"
      ]
     },
     "execution_count": 73,
     "metadata": {},
     "output_type": "execute_result"
    }
   ],
   "source": [
    "pickled_model.predict(inp)"
   ]
  },
  {
   "cell_type": "code",
   "execution_count": null,
   "id": "06ab430c",
   "metadata": {},
   "outputs": [],
   "source": []
  },
  {
   "cell_type": "code",
   "execution_count": null,
   "id": "b07aaded",
   "metadata": {},
   "outputs": [],
   "source": []
  }
 ],
 "metadata": {
  "kernelspec": {
   "display_name": "Python 3 (ipykernel)",
   "language": "python",
   "name": "python3"
  },
  "language_info": {
   "codemirror_mode": {
    "name": "ipython",
    "version": 3
   },
   "file_extension": ".py",
   "mimetype": "text/x-python",
   "name": "python",
   "nbconvert_exporter": "python",
   "pygments_lexer": "ipython3",
   "version": "3.7.4"
  }
 },
 "nbformat": 4,
 "nbformat_minor": 5
}
